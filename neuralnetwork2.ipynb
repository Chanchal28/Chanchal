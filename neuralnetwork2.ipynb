{
  "nbformat": 4,
  "nbformat_minor": 0,
  "metadata": {
    "colab": {
      "name": "Untitled0.ipynb",
      "provenance": [],
      "collapsed_sections": [],
      "authorship_tag": "ABX9TyNeFe8425bQ2X/Q23UQRQvM",
      "include_colab_link": true
    },
    "kernelspec": {
      "name": "python3",
      "display_name": "Python 3"
    }
  },
  "cells": [
    {
      "cell_type": "markdown",
      "metadata": {
        "id": "view-in-github",
        "colab_type": "text"
      },
      "source": [
        "<a href=\"https://colab.research.google.com/github/Chanchal28/Chanchal/blob/master/neuralnetwork2.ipynb\" target=\"_parent\"><img src=\"https://colab.research.google.com/assets/colab-badge.svg\" alt=\"Open In Colab\"/></a>"
      ]
    },
    {
      "cell_type": "code",
      "metadata": {
        "id": "SULlKnE0JByr",
        "colab_type": "code",
        "outputId": "cbb0d1eb-7fb4-488a-ee52-d7ba258403fb",
        "colab": {
          "base_uri": "https://localhost:8080/",
          "height": 34
        }
      },
      "source": [
        "#sigmoid\n",
        "from numpy import *\n",
        "  \n",
        "class NeuralNet(object): \n",
        "    def __init__(self): \n",
        "        # Generate random numbers \n",
        "        random.seed(1) \n",
        "  \n",
        "        # Assign random weights to a 3 x 1 matrix, \n",
        "        self.synaptic_weights = 2 * random.random((3, 1)) - 1\n",
        "  \n",
        "    # The Sigmoid function \n",
        "    def __sigmoid(self, x): \n",
        "        return 1 / (1 + exp(-x)) \n",
        "  \n",
        "    # The derivative of the Sigmoid function. \n",
        "    # This is the gradient of the Sigmoid curve. \n",
        "    def __sigmoid_derivative(self, x): \n",
        "        return x * (1 - x) \n",
        "  \n",
        "    # Train the neural network and adjust the weights each time. \n",
        "    def train(self, inputs, outputs, training_iterations): \n",
        "        for iteration in range(training_iterations): \n",
        "  \n",
        "            # Pass the training set through the network. \n",
        "            output = self.learn(inputs) \n",
        "  \n",
        "            # Calculate the error \n",
        "            error = outputs - output \n",
        "  \n",
        "            # Adjust the weights by a factor \n",
        "            factor = dot(inputs.T, error * self.__sigmoid_derivative(output)) \n",
        "            self.synaptic_weights += factor \n",
        "  \n",
        "    # The neural network thinks. \n",
        "    def learn(self, inputs): \n",
        "        return self.__sigmoid(dot(inputs, self.synaptic_weights)) \n",
        "  \n",
        "if __name__ == \"__main__\": \n",
        "  \n",
        "    #Initialize \n",
        "    neural_network = NeuralNet() \n",
        "  \n",
        "    # The training set. \n",
        "    inputs = array([[0, 0, 0], [0, 0, 1], [0, 1, 0],[0,1,1],[1,0,0],[1,0,1]]) \n",
        "    outputs = array([[1, 0, 1,1,1,1]]).T \n",
        "  \n",
        "    # Train the neural network \n",
        "    neural_network.train(inputs, outputs, 10) \n",
        "  \n",
        "    # Test the neural network with a test example. \n",
        "    print (neural_network.learn(array([1, 1, 1])) )"
      ],
      "execution_count": 2,
      "outputs": [
        {
          "output_type": "stream",
          "text": [
            "[0.9428267]\n"
          ],
          "name": "stdout"
        }
      ]
    },
    {
      "cell_type": "code",
      "metadata": {
        "id": "BFux7cfV8zbx",
        "colab_type": "code",
        "colab": {}
      },
      "source": [
        ""
      ],
      "execution_count": 0,
      "outputs": []
    },
    {
      "cell_type": "code",
      "metadata": {
        "id": "rLvUtEP3FrNu",
        "colab_type": "code",
        "outputId": "62e0b40e-45db-40df-bc40-7602d84b2cee",
        "colab": {
          "base_uri": "https://localhost:8080/",
          "height": 187
        }
      },
      "source": [
        "#tanh\n",
        "# Class to create a neural  \n",
        "# network with single neuron \n",
        "class NeuralNetwork(): \n",
        "      \n",
        "    def __init__(self): \n",
        "          \n",
        "        # Using seed to make sure it'll   \n",
        "        # generate same weights in every run \n",
        "        random.seed(1) \n",
        "          \n",
        "        # 3x1 Weight matrix \n",
        "        self.weight_matrix = 2 * random.random((3, 1)) - 1\n",
        "  \n",
        "    # tanh as activation fucntion \n",
        "    def tanh(self, x): \n",
        "        return tanh(x)\n",
        "  \n",
        "    # derivative of tanh function. \n",
        "    # Needed to calculate the gradients. \n",
        "    def tanh_derivative(self, x): \n",
        "        return 1-tanh(x)**2\n",
        "  \n",
        "    # forward propagation \n",
        "    def forward_propagation(self, inputs): \n",
        "        return self.tanh(dot(inputs, self.weight_matrix)) \n",
        "      \n",
        "    # training the neural network. \n",
        "    def train(self, train_inputs, train_outputs, \n",
        "                            num_train_iterations): \n",
        "                                  \n",
        "        # Number of iterations we want to \n",
        "        # perform for this set of input. \n",
        "        for iteration in range(num_train_iterations): \n",
        "            output = self.forward_propagation(train_inputs) \n",
        "  \n",
        "            # Calculate the error in the output. \n",
        "            error = train_outputs - output \n",
        "  \n",
        "            # multiply the error by input and then  \n",
        "            # by gradient of tanh funtion to calculate \n",
        "            # the adjustment needs to be made in weights \n",
        "            adjustment = dot(train_inputs.T, error *\n",
        "                             self.tanh_derivative(output)) \n",
        "                               \n",
        "            # Adjust the weight matrix \n",
        "            self.weight_matrix += adjustment \n",
        "  \n",
        "# Driver Code \n",
        "if __name__ == \"__main__\": \n",
        "      \n",
        "    neural_network = NeuralNetwork() \n",
        "      \n",
        "    print ('Random weights at the start of training') \n",
        "    print (neural_network.weight_matrix) \n",
        "  \n",
        "    train_inputs = array([[0, 0, 0], [0, 0, 1], [0, 1, 0],[0,1,1],[1,0,0],[1,0,1]]) \n",
        "    train_outputs = array([[1, 0, 1,1,1,1]]).T \n",
        "  \n",
        "    neural_network.train(train_inputs, train_outputs, 10) \n",
        "  \n",
        "    print ('New weights after training') \n",
        "    print (neural_network.weight_matrix) \n",
        "  \n",
        "    # Test the neural network with a new situation. \n",
        "    print (\"Testing network on new examples ->\")\n",
        "    print (neural_network.forward_propagation(array([1, 1, 0])))\n",
        "     "
      ],
      "execution_count": 4,
      "outputs": [
        {
          "output_type": "stream",
          "text": [
            "Random weights at the start of training\n",
            "[[-0.16595599]\n",
            " [ 0.44064899]\n",
            " [-0.99977125]]\n",
            "New weights after training\n",
            "[[2.16500367]\n",
            " [2.27264706]\n",
            " [0.02046826]]\n",
            "Testing network on new examples ->\n",
            "[0.99972044]\n"
          ],
          "name": "stdout"
        }
      ]
    },
    {
      "cell_type": "code",
      "metadata": {
        "id": "OC8wRoW29QW1",
        "colab_type": "code",
        "colab": {}
      },
      "source": [
        ""
      ],
      "execution_count": 0,
      "outputs": []
    },
    {
      "cell_type": "code",
      "metadata": {
        "id": "UALifIEbNvmA",
        "colab_type": "code",
        "outputId": "52473326-4636-4e3d-a794-aec6a988d537",
        "colab": {
          "base_uri": "https://localhost:8080/",
          "height": 187
        }
      },
      "source": [
        "#relu\n",
        "# Class to create a neural  \n",
        "# network with single neuron\n",
        "import numpy as np\n",
        "class NeuralNetwork(): \n",
        "      \n",
        "    def __init__(self): \n",
        "          \n",
        "        # Using seed to make sure it'll   \n",
        "        # generate same weights in every run \n",
        "        random.seed(1) \n",
        "          \n",
        "        # 3x1 Weight matrix \n",
        "        self.weight_matrix = 2 * random.random((3, 1)) - 1\n",
        "  \n",
        "    # tanh as activation fucntion \n",
        "    def relu(self, x): \n",
        "        return np.maximum(0,x)\n",
        "  \n",
        "    # derivative of tanh function. \n",
        "    # Needed to calculate the gradients. \n",
        "    def relu_derivative(self, x): \n",
        "        return np.where(x <= 0, 0, 1)\n",
        "  \n",
        "    # forward propagation \n",
        "    def forward_propagation(self, inputs): \n",
        "        return self.relu(dot(inputs, self.weight_matrix)) \n",
        "      \n",
        "    # training the neural network. \n",
        "    def train(self, train_inputs, train_outputs, \n",
        "                            num_train_iterations): \n",
        "                                  \n",
        "        # Number of iterations we want to \n",
        "        # perform for this set of input. \n",
        "        for iteration in range(num_train_iterations): \n",
        "            output = self.forward_propagation(train_inputs) \n",
        "  \n",
        "            # Calculate the error in the output. \n",
        "            error = train_outputs - output \n",
        "  \n",
        "            # multiply the error by input and then  \n",
        "            # by gradient of tanh funtion to calculate \n",
        "            # the adjustment needs to be made in weights \n",
        "            adjustment = dot(train_inputs.T, error *\n",
        "                             self.relu_derivative(output)) \n",
        "                               \n",
        "            # Adjust the weight matrix \n",
        "            self.weight_matrix += adjustment \n",
        "  \n",
        "# Driver Code \n",
        "if __name__ == \"__main__\": \n",
        "      \n",
        "    neural_network = NeuralNetwork() \n",
        "      \n",
        "    print ('Random weights at the start of training') \n",
        "    print (neural_network.weight_matrix) \n",
        "  \n",
        "    train_inputs = array([[0, 0, 0], [0, 0, 1], [0, 1, 0],[0,1,1],[1,0,0],[1,0,1]]) \n",
        "    train_outputs = array([[1, 0, 1,1,1,1]]).T \n",
        "  \n",
        "    neural_network.train(train_inputs, train_outputs, 10) \n",
        "  \n",
        "    print ('New weights after training') \n",
        "    print (neural_network.weight_matrix) \n",
        "  \n",
        "    # Test the neural network with a new situation. \n",
        "    print (\"Testing network on new examples ->\")\n",
        "    print (neural_network.forward_propagation(array([1,1,0])))\n",
        "\n",
        "    #relu can not be used in output layer"
      ],
      "execution_count": 6,
      "outputs": [
        {
          "output_type": "stream",
          "text": [
            "Random weights at the start of training\n",
            "[[-0.16595599]\n",
            " [ 0.44064899]\n",
            " [-0.99977125]]\n",
            "New weights after training\n",
            "[[-0.16595599]\n",
            " [ 1.        ]\n",
            " [-0.99977125]]\n",
            "Testing network on new examples ->\n",
            "[0.83404401]\n"
          ],
          "name": "stdout"
        }
      ]
    }
  ]
}