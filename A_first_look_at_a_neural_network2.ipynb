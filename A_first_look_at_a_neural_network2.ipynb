{
  "nbformat": 4,
  "nbformat_minor": 0,
  "metadata": {
    "kernelspec": {
      "display_name": "Python [conda env:dl-gpu]",
      "language": "python",
      "name": "conda-env-dl-gpu-py"
    },
    "language_info": {
      "codemirror_mode": {
        "name": "ipython",
        "version": 3
      },
      "file_extension": ".py",
      "mimetype": "text/x-python",
      "name": "python",
      "nbconvert_exporter": "python",
      "pygments_lexer": "ipython3",
      "version": "3.6.3"
    },
    "toc": {
      "nav_menu": {},
      "number_sections": true,
      "sideBar": true,
      "skip_h1_title": false,
      "toc_cell": true,
      "toc_position": {},
      "toc_section_display": "block",
      "toc_window_display": false
    },
    "colab": {
      "name": "Copy of 01-A-first-look-at-a-neural-network.ipynb",
      "provenance": [],
      "collapsed_sections": [],
      "include_colab_link": true
    }
  },
  "cells": [
    {
      "cell_type": "markdown",
      "metadata": {
        "id": "view-in-github",
        "colab_type": "text"
      },
      "source": [
        "<a href=\"https://colab.research.google.com/github/Chanchal28/Chanchal/blob/master/A_first_look_at_a_neural_network2.ipynb\" target=\"_parent\"><img src=\"https://colab.research.google.com/assets/colab-badge.svg\" alt=\"Open In Colab\"/></a>"
      ]
    },
    {
      "cell_type": "markdown",
      "metadata": {
        "toc": true,
        "id": "zQvT7bhRzp4e",
        "colab_type": "text"
      },
      "source": [
        "<h1>Table of Contents<span class=\"tocSkip\"></span></h1>\n",
        "<div class=\"toc\" style=\"margin-top: 1em;\"><ul class=\"toc-item\"><li><span><a href=\"#Loading-the-MNIST-dataset-in-Keras\" data-toc-modified-id=\"Loading-the-MNIST-dataset-in-Keras-1\"><span class=\"toc-item-num\">1&nbsp;&nbsp;</span>Loading the MNIST dataset in Keras</a></span></li><li><span><a href=\"#The-network-architecture\" data-toc-modified-id=\"The-network-architecture-2\"><span class=\"toc-item-num\">2&nbsp;&nbsp;</span>The network architecture</a></span></li><li><span><a href=\"#The-compilation-step\" data-toc-modified-id=\"The-compilation-step-3\"><span class=\"toc-item-num\">3&nbsp;&nbsp;</span>The compilation step</a></span></li><li><span><a href=\"#Preparing-the-image-data\" data-toc-modified-id=\"Preparing-the-image-data-4\"><span class=\"toc-item-num\">4&nbsp;&nbsp;</span>Preparing the image data</a></span></li><li><span><a href=\"#Preparing-the-labels\" data-toc-modified-id=\"Preparing-the-labels-5\"><span class=\"toc-item-num\">5&nbsp;&nbsp;</span>Preparing the labels</a></span></li><li><span><a href=\"#Training-and-Testing\" data-toc-modified-id=\"Training-and-Testing-6\"><span class=\"toc-item-num\">6&nbsp;&nbsp;</span>Training and Testing</a></span></li></ul></div>"
      ]
    },
    {
      "cell_type": "markdown",
      "metadata": {
        "id": "GSee4zKUzp4i",
        "colab_type": "text"
      },
      "source": [
        "# Loading the MNIST dataset in Keras"
      ]
    },
    {
      "cell_type": "code",
      "metadata": {
        "id": "6a8IveFHzp4l",
        "colab_type": "code",
        "colab": {}
      },
      "source": [
        "from keras.datasets import mnist"
      ],
      "execution_count": 0,
      "outputs": []
    },
    {
      "cell_type": "code",
      "metadata": {
        "id": "LQPmnZ8xzp4v",
        "colab_type": "code",
        "outputId": "d5206bf9-6028-4fe4-e82d-658b86205ee0",
        "colab": {
          "base_uri": "https://localhost:8080/",
          "height": 51
        }
      },
      "source": [
        "(train_images, train_labels), (test_images, test_labels) = mnist.load_data()"
      ],
      "execution_count": 3,
      "outputs": [
        {
          "output_type": "stream",
          "text": [
            "Downloading data from https://s3.amazonaws.com/img-datasets/mnist.npz\n",
            "11493376/11490434 [==============================] - 0s 0us/step\n"
          ],
          "name": "stdout"
        }
      ]
    },
    {
      "cell_type": "markdown",
      "metadata": {
        "id": "mnZfS9HYzp4z",
        "colab_type": "text"
      },
      "source": [
        "- The images are encoded as Numpy arrays, and the labels are an array of digits, ranging from 0 to 9."
      ]
    },
    {
      "cell_type": "code",
      "metadata": {
        "id": "VFdoffSmzp41",
        "colab_type": "code",
        "outputId": "4e0c1073-ef6f-419d-c404-beb7ce7de1e0",
        "colab": {
          "base_uri": "https://localhost:8080/",
          "height": 34
        }
      },
      "source": [
        "train_images.shape\n"
      ],
      "execution_count": 4,
      "outputs": [
        {
          "output_type": "execute_result",
          "data": {
            "text/plain": [
              "(60000, 28, 28)"
            ]
          },
          "metadata": {
            "tags": []
          },
          "execution_count": 4
        }
      ]
    },
    {
      "cell_type": "code",
      "metadata": {
        "id": "tD65nC-vzp45",
        "colab_type": "code",
        "outputId": "b14579b4-f2c6-4000-fa07-8b6e1f0ab2b5",
        "colab": {
          "base_uri": "https://localhost:8080/",
          "height": 34
        }
      },
      "source": [
        "len(train_labels)"
      ],
      "execution_count": 5,
      "outputs": [
        {
          "output_type": "execute_result",
          "data": {
            "text/plain": [
              "60000"
            ]
          },
          "metadata": {
            "tags": []
          },
          "execution_count": 5
        }
      ]
    },
    {
      "cell_type": "code",
      "metadata": {
        "id": "IX9LpWNazp4_",
        "colab_type": "code",
        "outputId": "a17fb9d3-c2e3-44c6-d0d2-8e17464b2058",
        "colab": {
          "base_uri": "https://localhost:8080/",
          "height": 34
        }
      },
      "source": [
        "train_labels"
      ],
      "execution_count": 6,
      "outputs": [
        {
          "output_type": "execute_result",
          "data": {
            "text/plain": [
              "array([5, 0, 4, ..., 5, 6, 8], dtype=uint8)"
            ]
          },
          "metadata": {
            "tags": []
          },
          "execution_count": 6
        }
      ]
    },
    {
      "cell_type": "code",
      "metadata": {
        "id": "SG0L5p4Dzp5D",
        "colab_type": "code",
        "outputId": "b6ed9876-4156-42e0-f50f-25e416b2fed2",
        "colab": {
          "base_uri": "https://localhost:8080/",
          "height": 34
        }
      },
      "source": [
        "test_images.shape"
      ],
      "execution_count": 7,
      "outputs": [
        {
          "output_type": "execute_result",
          "data": {
            "text/plain": [
              "(10000, 28, 28)"
            ]
          },
          "metadata": {
            "tags": []
          },
          "execution_count": 7
        }
      ]
    },
    {
      "cell_type": "code",
      "metadata": {
        "id": "MimOH_Xnzp5I",
        "colab_type": "code",
        "outputId": "1fb72553-b813-4f0f-db3a-f493304d7a82",
        "colab": {
          "base_uri": "https://localhost:8080/",
          "height": 34
        }
      },
      "source": [
        "len(test_labels)"
      ],
      "execution_count": 8,
      "outputs": [
        {
          "output_type": "execute_result",
          "data": {
            "text/plain": [
              "10000"
            ]
          },
          "metadata": {
            "tags": []
          },
          "execution_count": 8
        }
      ]
    },
    {
      "cell_type": "code",
      "metadata": {
        "id": "8EHR0v0Bzp5M",
        "colab_type": "code",
        "outputId": "636870ec-9ae6-42a1-d684-1b85773b6f4f",
        "colab": {
          "base_uri": "https://localhost:8080/",
          "height": 34
        }
      },
      "source": [
        "test_labels"
      ],
      "execution_count": 9,
      "outputs": [
        {
          "output_type": "execute_result",
          "data": {
            "text/plain": [
              "array([7, 2, 1, ..., 4, 5, 6], dtype=uint8)"
            ]
          },
          "metadata": {
            "tags": []
          },
          "execution_count": 9
        }
      ]
    },
    {
      "cell_type": "markdown",
      "metadata": {
        "id": "s0Tp6nDRzp5R",
        "colab_type": "text"
      },
      "source": [
        "Let's build the network"
      ]
    },
    {
      "cell_type": "markdown",
      "metadata": {
        "id": "WxbJXg2Czp5T",
        "colab_type": "text"
      },
      "source": [
        "# The network architecture"
      ]
    },
    {
      "cell_type": "markdown",
      "metadata": {
        "id": "kGCxNrDdzp5U",
        "colab_type": "text"
      },
      "source": [
        "- The core building block of neural networks is the **layer**, a data-processing module that you can think of as a filter for data.\n",
        "    - Some data goes in, and it comes out in a more useful form.\n",
        "    - Layers extract **representations** (hopefully, meaningful for the data problem at hand) out of the data fed into them.\n",
        "    \n",
        "- Most of deep learning consists of chaining together simple layers that will implement a form of progressive **data distillation**.\n",
        "- A deep learning model is like a sieve for data-processing, made of a succession of increasingly refined data filters--**the layers**."
      ]
    },
    {
      "cell_type": "code",
      "metadata": {
        "id": "uyUqGjPTzp5V",
        "colab_type": "code",
        "colab": {}
      },
      "source": [
        "from keras import models\n",
        "from keras import layers"
      ],
      "execution_count": 0,
      "outputs": []
    },
    {
      "cell_type": "code",
      "metadata": {
        "id": "NEVk0S9_zp5a",
        "colab_type": "code",
        "colab": {}
      },
      "source": [
        "network = models.Sequential()\n",
        "# Dense(512) is a fully-connected layer with 512 hidden units.\n",
        "# in the first layer, you must specify the expected input data shape :\n",
        "# here, 28 X 28=784 -dimensional vectors.\n",
        "network.add(layers.Dense(612, activation='relu', input_shape=(28 * 28, )))\n",
        "network.add(layers.Dense(350, activation='relu', input_shape=(28 * 28, )))\n",
        "network.add(layers.Dense(10, activation='softmax'))"
      ],
      "execution_count": 0,
      "outputs": []
    },
    {
      "cell_type": "markdown",
      "metadata": {
        "id": "Af2c2tvKzp5f",
        "colab_type": "text"
      },
      "source": [
        "- Our network consists of a sequence of two *Dense* layers, which are densely connected (also called *fully connected*) neural layers.\n",
        "- The second (and last) layer is a **10-way** *softmax* layer, which means it will return an array of **10** probability scores. Each score will be the probability that the current digit image belongs to one of our 10 digit classes. "
      ]
    },
    {
      "cell_type": "markdown",
      "metadata": {
        "id": "NHbqJ-rWzp5g",
        "colab_type": "text"
      },
      "source": [
        "# The compilation step"
      ]
    },
    {
      "cell_type": "markdown",
      "metadata": {
        "id": "1w0ne5wYzp5h",
        "colab_type": "text"
      },
      "source": [
        "- To make the network ready for training, we need to pick three more things, as part of the **compilation** step:\n",
        " - **A loss function**-- How the network will be able to measure its performance on the training data, and thus how it will be able to steer itself in the right direction.\n",
        " - **An optimizer**--The mechanism through which the network will update itself based on the data it sees and its loss function.\n",
        " - **Metrics to monitor during training and testing**--Here, we will only care about accuracy (the fraction of the images that were correctly classified)."
      ]
    },
    {
      "cell_type": "code",
      "metadata": {
        "id": "uvSO-q9Ozp5i",
        "colab_type": "code",
        "colab": {}
      },
      "source": [
        "network.compile(optimizer='rmsprop',\n",
        "                loss='categorical_crossentropy',\n",
        "                metrics=['accuracy'])\n",
        "    "
      ],
      "execution_count": 0,
      "outputs": []
    },
    {
      "cell_type": "markdown",
      "metadata": {
        "id": "fLHJqTLXzp5o",
        "colab_type": "text"
      },
      "source": [
        "# Preparing the image data"
      ]
    },
    {
      "cell_type": "markdown",
      "metadata": {
        "id": "ajWKVl1-zp5q",
        "colab_type": "text"
      },
      "source": [
        "Before training, we will preprocess the data by reshaping it into the shape the network expects and scaling it so that all values are in the $[0-1]$ interval."
      ]
    },
    {
      "cell_type": "code",
      "metadata": {
        "id": "4vMdz75Wzp5s",
        "colab_type": "code",
        "colab": {}
      },
      "source": [
        "train_images = train_images.reshape((60000, 28 * 28))\n",
        "train_images = train_images.astype('float32') / 255."
      ],
      "execution_count": 0,
      "outputs": []
    },
    {
      "cell_type": "code",
      "metadata": {
        "id": "4icW7vDgzp5w",
        "colab_type": "code",
        "colab": {}
      },
      "source": [
        "test_images = test_images.reshape((10000, 28 * 28))\n",
        "test_images = test_images.astype('float32') / 255."
      ],
      "execution_count": 0,
      "outputs": []
    },
    {
      "cell_type": "markdown",
      "metadata": {
        "id": "0SHD8Vvhzp5z",
        "colab_type": "text"
      },
      "source": [
        "# Preparing the labels"
      ]
    },
    {
      "cell_type": "markdown",
      "metadata": {
        "id": "JA1YmuF1zp51",
        "colab_type": "text"
      },
      "source": [
        "We also need to categorically encode the labels."
      ]
    },
    {
      "cell_type": "code",
      "metadata": {
        "id": "Bh42ABtgzp58",
        "colab_type": "code",
        "colab": {}
      },
      "source": [
        "from keras.utils import to_categorical"
      ],
      "execution_count": 0,
      "outputs": []
    },
    {
      "cell_type": "code",
      "metadata": {
        "id": "3eCqlapJzp6A",
        "colab_type": "code",
        "outputId": "7ef1d803-c9bb-4285-fb12-c58918327ddb",
        "colab": {
          "base_uri": "https://localhost:8080/",
          "height": 136
        }
      },
      "source": [
        "train_labels = to_categorical(train_labels)\n",
        "train_labels"
      ],
      "execution_count": 18,
      "outputs": [
        {
          "output_type": "execute_result",
          "data": {
            "text/plain": [
              "array([[0., 0., 0., ..., 0., 0., 0.],\n",
              "       [1., 0., 0., ..., 0., 0., 0.],\n",
              "       [0., 0., 0., ..., 0., 0., 0.],\n",
              "       ...,\n",
              "       [0., 0., 0., ..., 0., 0., 0.],\n",
              "       [0., 0., 0., ..., 0., 0., 0.],\n",
              "       [0., 0., 0., ..., 0., 1., 0.]], dtype=float32)"
            ]
          },
          "metadata": {
            "tags": []
          },
          "execution_count": 18
        }
      ]
    },
    {
      "cell_type": "code",
      "metadata": {
        "id": "wWXDQKNBzp6E",
        "colab_type": "code",
        "outputId": "5dd34634-cb57-4b79-bf12-5367f6b40ffc",
        "colab": {
          "base_uri": "https://localhost:8080/",
          "height": 136
        }
      },
      "source": [
        "test_labels = to_categorical(test_labels)\n",
        "test_labels"
      ],
      "execution_count": 19,
      "outputs": [
        {
          "output_type": "execute_result",
          "data": {
            "text/plain": [
              "array([[0., 0., 0., ..., 1., 0., 0.],\n",
              "       [0., 0., 1., ..., 0., 0., 0.],\n",
              "       [0., 1., 0., ..., 0., 0., 0.],\n",
              "       ...,\n",
              "       [0., 0., 0., ..., 0., 0., 0.],\n",
              "       [0., 0., 0., ..., 0., 0., 0.],\n",
              "       [0., 0., 0., ..., 0., 0., 0.]], dtype=float32)"
            ]
          },
          "metadata": {
            "tags": []
          },
          "execution_count": 19
        }
      ]
    },
    {
      "cell_type": "markdown",
      "metadata": {
        "id": "csJ7yQVxzp6I",
        "colab_type": "text"
      },
      "source": [
        "# Training and Testing"
      ]
    },
    {
      "cell_type": "markdown",
      "metadata": {
        "id": "P-KLV-VIzp6K",
        "colab_type": "text"
      },
      "source": [
        "We are now ready to train the network, which in Keras is done via a call to the network's fit method--we fit the model to its training data:"
      ]
    },
    {
      "cell_type": "code",
      "metadata": {
        "id": "sGWa7zXYzp6O",
        "colab_type": "code",
        "outputId": "669a754c-94b7-4616-9021-d74b30d78afb",
        "colab": {
          "base_uri": "https://localhost:8080/",
          "height": 1000
        }
      },
      "source": [
        "hist=network.fit(train_images, train_labels, epochs=45, batch_size=30)"
      ],
      "execution_count": 35,
      "outputs": [
        {
          "output_type": "stream",
          "text": [
            "Epoch 1/45\n",
            "60000/60000 [==============================] - 22s 368us/step - loss: 0.0720 - acc: 0.9858\n",
            "Epoch 2/45\n",
            "60000/60000 [==============================] - 23s 377us/step - loss: 0.0669 - acc: 0.9871\n",
            "Epoch 3/45\n",
            "60000/60000 [==============================] - 22s 365us/step - loss: 0.0611 - acc: 0.9888\n",
            "Epoch 4/45\n",
            "60000/60000 [==============================] - 22s 374us/step - loss: 0.0566 - acc: 0.9902\n",
            "Epoch 5/45\n",
            "60000/60000 [==============================] - 22s 366us/step - loss: 0.0528 - acc: 0.9913\n",
            "Epoch 6/45\n",
            "60000/60000 [==============================] - 22s 368us/step - loss: 0.0485 - acc: 0.9918\n",
            "Epoch 7/45\n",
            "60000/60000 [==============================] - 22s 365us/step - loss: 0.0451 - acc: 0.9928\n",
            "Epoch 8/45\n",
            "60000/60000 [==============================] - 22s 367us/step - loss: 0.0458 - acc: 0.9934\n",
            "Epoch 9/45\n",
            "60000/60000 [==============================] - 22s 365us/step - loss: 0.0412 - acc: 0.9941\n",
            "Epoch 10/45\n",
            "60000/60000 [==============================] - 22s 365us/step - loss: 0.0429 - acc: 0.9939\n",
            "Epoch 11/45\n",
            "60000/60000 [==============================] - 22s 361us/step - loss: 0.0355 - acc: 0.9944\n",
            "Epoch 12/45\n",
            "60000/60000 [==============================] - 22s 363us/step - loss: 0.0345 - acc: 0.9952\n",
            "Epoch 13/45\n",
            "60000/60000 [==============================] - 22s 367us/step - loss: 0.0358 - acc: 0.9957\n",
            "Epoch 14/45\n",
            "60000/60000 [==============================] - 22s 367us/step - loss: 0.0295 - acc: 0.9959\n",
            "Epoch 15/45\n",
            "60000/60000 [==============================] - 22s 366us/step - loss: 0.0329 - acc: 0.9959\n",
            "Epoch 16/45\n",
            "60000/60000 [==============================] - 22s 372us/step - loss: 0.0282 - acc: 0.9964\n",
            "Epoch 17/45\n",
            "60000/60000 [==============================] - 22s 368us/step - loss: 0.0293 - acc: 0.9962\n",
            "Epoch 18/45\n",
            "60000/60000 [==============================] - 22s 371us/step - loss: 0.0242 - acc: 0.9971\n",
            "Epoch 19/45\n",
            "60000/60000 [==============================] - 22s 371us/step - loss: 0.0235 - acc: 0.9972\n",
            "Epoch 20/45\n",
            "60000/60000 [==============================] - 22s 367us/step - loss: 0.0281 - acc: 0.9966\n",
            "Epoch 21/45\n",
            "60000/60000 [==============================] - 22s 368us/step - loss: 0.0226 - acc: 0.9972\n",
            "Epoch 22/45\n",
            "60000/60000 [==============================] - 22s 361us/step - loss: 0.0204 - acc: 0.9976\n",
            "Epoch 23/45\n",
            "60000/60000 [==============================] - 22s 364us/step - loss: 0.0236 - acc: 0.9973\n",
            "Epoch 24/45\n",
            "60000/60000 [==============================] - 22s 361us/step - loss: 0.0225 - acc: 0.9974\n",
            "Epoch 25/45\n",
            "60000/60000 [==============================] - 22s 360us/step - loss: 0.0204 - acc: 0.9976\n",
            "Epoch 26/45\n",
            "60000/60000 [==============================] - 22s 359us/step - loss: 0.0186 - acc: 0.9979\n",
            "Epoch 27/45\n",
            "60000/60000 [==============================] - 22s 359us/step - loss: 0.0203 - acc: 0.9977\n",
            "Epoch 28/45\n",
            "60000/60000 [==============================] - 22s 362us/step - loss: 0.0206 - acc: 0.9978\n",
            "Epoch 29/45\n",
            "60000/60000 [==============================] - 22s 363us/step - loss: 0.0176 - acc: 0.9980\n",
            "Epoch 30/45\n",
            "60000/60000 [==============================] - 22s 368us/step - loss: 0.0177 - acc: 0.9982\n",
            "Epoch 31/45\n",
            "60000/60000 [==============================] - 22s 358us/step - loss: 0.0151 - acc: 0.9983\n",
            "Epoch 32/45\n",
            "60000/60000 [==============================] - 22s 361us/step - loss: 0.0144 - acc: 0.9984\n",
            "Epoch 33/45\n",
            "60000/60000 [==============================] - 22s 367us/step - loss: 0.0177 - acc: 0.9980\n",
            "Epoch 34/45\n",
            "60000/60000 [==============================] - 22s 362us/step - loss: 0.0159 - acc: 0.9984\n",
            "Epoch 35/45\n",
            "60000/60000 [==============================] - 22s 361us/step - loss: 0.0147 - acc: 0.9982\n",
            "Epoch 36/45\n",
            "60000/60000 [==============================] - 22s 361us/step - loss: 0.0150 - acc: 0.9985\n",
            "Epoch 37/45\n",
            "60000/60000 [==============================] - 22s 365us/step - loss: 0.0134 - acc: 0.9987\n",
            "Epoch 38/45\n",
            "60000/60000 [==============================] - 22s 365us/step - loss: 0.0140 - acc: 0.9986\n",
            "Epoch 39/45\n",
            "60000/60000 [==============================] - 22s 368us/step - loss: 0.0155 - acc: 0.9985\n",
            "Epoch 40/45\n",
            "60000/60000 [==============================] - 22s 366us/step - loss: 0.0169 - acc: 0.9982\n",
            "Epoch 41/45\n",
            "60000/60000 [==============================] - 22s 366us/step - loss: 0.0130 - acc: 0.9987\n",
            "Epoch 42/45\n",
            "60000/60000 [==============================] - 22s 363us/step - loss: 0.0128 - acc: 0.9987\n",
            "Epoch 43/45\n",
            "60000/60000 [==============================] - 22s 361us/step - loss: 0.0116 - acc: 0.9988\n",
            "Epoch 44/45\n",
            "60000/60000 [==============================] - 22s 366us/step - loss: 0.0146 - acc: 0.9986\n",
            "Epoch 45/45\n",
            "60000/60000 [==============================] - 22s 361us/step - loss: 0.0146 - acc: 0.9986\n"
          ],
          "name": "stdout"
        }
      ]
    },
    {
      "cell_type": "markdown",
      "metadata": {
        "id": "heVasO26zp6V",
        "colab_type": "text"
      },
      "source": [
        "- Two quantities are displayed during training:\n",
        "    - The loss of the network over the training data\n",
        "    - The accuracy of the network over the training data\n",
        "    \n",
        "- We quickly reach an accuracy of **$0.9886 (98.86\\%)$** on the training data."
      ]
    },
    {
      "cell_type": "markdown",
      "metadata": {
        "id": "0eDaNGAYzp6X",
        "colab_type": "text"
      },
      "source": [
        "- Now let's check that the model performs well on the test set, too:"
      ]
    },
    {
      "cell_type": "code",
      "metadata": {
        "id": "2-UhmyTWzp6Y",
        "colab_type": "code",
        "outputId": "8fc05b80-bfb4-47fb-8103-1085a6a9a47d",
        "colab": {
          "base_uri": "https://localhost:8080/",
          "height": 34
        }
      },
      "source": [
        "test_loss, test_acc = network.evaluate(test_images, test_labels)"
      ],
      "execution_count": 36,
      "outputs": [
        {
          "output_type": "stream",
          "text": [
            "10000/10000 [==============================] - 1s 72us/step\n"
          ],
          "name": "stdout"
        }
      ]
    },
    {
      "cell_type": "code",
      "metadata": {
        "id": "omz-cZXLzp6d",
        "colab_type": "code",
        "outputId": "6e298ce9-dbba-40ff-c4d3-0cfdfddc027f",
        "colab": {
          "base_uri": "https://localhost:8080/",
          "height": 34
        }
      },
      "source": [
        "print('Test Accuracy: {:.5f} '.format(test_acc))"
      ],
      "execution_count": 37,
      "outputs": [
        {
          "output_type": "stream",
          "text": [
            "Test Accuracy: 0.98150 \n"
          ],
          "name": "stdout"
        }
      ]
    },
    {
      "cell_type": "code",
      "metadata": {
        "id": "cbIp64KFzp6g",
        "colab_type": "code",
        "outputId": "9003c1db-593e-454a-8394-a7bdfe8864e8",
        "colab": {
          "base_uri": "https://localhost:8080/",
          "height": 34
        }
      },
      "source": [
        "test_acc"
      ],
      "execution_count": 38,
      "outputs": [
        {
          "output_type": "execute_result",
          "data": {
            "text/plain": [
              "0.9815"
            ]
          },
          "metadata": {
            "tags": []
          },
          "execution_count": 38
        }
      ]
    },
    {
      "cell_type": "markdown",
      "metadata": {
        "id": "yi5jDr-0zp6k",
        "colab_type": "text"
      },
      "source": [
        "- The test-set accuracy turns out to be $97.780\\%$--that is quite a bit lower than the training set accuracy. This gap between training and test accuracy is an example of **overfitting**:the fact that the ML models tend to perform worse on new data than on their training data."
      ]
    },
    {
      "cell_type": "code",
      "metadata": {
        "id": "JOu1IQW6zp6l",
        "colab_type": "code",
        "outputId": "7e2a8dc9-7610-464b-8bf0-772dc10ae010",
        "colab": {
          "base_uri": "https://localhost:8080/",
          "height": 312
        }
      },
      "source": [
        "#%load_ext version_information\n",
        "#%version_information keras, numpy\n",
        "import matplotlib.pyplot as plt\n",
        "print(hist.history.keys())\n",
        "#model.fit(validation_data=(train_images, train_labels))\n",
        "#model.fit(validation_split=0.5)\n",
        "plt.plot(hist.history['acc'])\n",
        "plt.plot(hist.history['loss'])\n",
        "plt.title('Model accuracy')\n",
        "plt.ylabel('Accuracy')\n",
        "plt.xlabel('Epoch')\n",
        "plt.legend(['Train', 'Val'], loc='lower right')\n",
        "plt.show()"
      ],
      "execution_count": 55,
      "outputs": [
        {
          "output_type": "stream",
          "text": [
            "dict_keys(['loss', 'acc'])\n"
          ],
          "name": "stdout"
        },
        {
          "output_type": "display_data",
          "data": {
            "image/png": "[encoded data removed]",
            "text/plain": [
              "<Figure size 432x288 with 1 Axes>"
            ]
          },
          "metadata": {
            "tags": []
          }
        }
      ]
    }
  ]
}